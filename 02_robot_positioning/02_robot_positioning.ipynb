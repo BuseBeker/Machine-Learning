{
 "cells": [
  {
   "cell_type": "code",
   "execution_count": null,
   "id": "01e59fc1",
   "metadata": {},
   "outputs": [],
   "source": [
    "\"\"\"\n",
    "Group Members\n",
    "\n",
    "181805036 - Seher Kumsar\n",
    "181805057 - Kardelen Gel\n",
    "181805067 - Buse Latife Beker\n",
    "181805077 - Emine Ece Coşkunçay\n",
    "\"\"\""
   ]
  },
  {
   "cell_type": "code",
   "execution_count": 60,
   "id": "d8fef6ae",
   "metadata": {},
   "outputs": [],
   "source": [
    "import numpy as np\n",
    "import pandas as pd\n",
    "import pickle\n",
    "from sklearn.metrics import r2_score\n",
    "from sklearn.ensemble import GradientBoostingRegressor\n",
    "from sklearn.model_selection import train_test_split\n",
    "from sklearn import metrics\n",
    "from sklearn.preprocessing import StandardScaler"
   ]
  },
  {
   "cell_type": "code",
   "execution_count": 61,
   "id": "500d58ca",
   "metadata": {},
   "outputs": [],
   "source": [
    "df = pd.read_excel('./Robot Localization.xlsx')"
   ]
  },
  {
   "cell_type": "code",
   "execution_count": 62,
   "id": "cfbc1387",
   "metadata": {},
   "outputs": [],
   "source": [
    "features = df.iloc[1:,1:-3]"
   ]
  },
  {
   "cell_type": "code",
   "execution_count": 63,
   "id": "de421af9",
   "metadata": {},
   "outputs": [],
   "source": [
    "scaler = StandardScaler()\n",
    "scaler.fit(features)\n",
    "X_scaled = scaler.transform(features)\n",
    "features_df = pd.DataFrame(X_scaled)"
   ]
  },
  {
   "cell_type": "code",
   "execution_count": 64,
   "id": "2f404841",
   "metadata": {},
   "outputs": [],
   "source": [
    "Y = df.loc[1:,'x']"
   ]
  },
  {
   "cell_type": "code",
   "execution_count": 65,
   "id": "4a0a5065",
   "metadata": {},
   "outputs": [
    {
     "name": "stdout",
     "output_type": "stream",
     "text": [
      "0.9999999893333428\n"
     ]
    }
   ],
   "source": [
    "X_train, X_test, Y_train, Y_test = train_test_split(features, Y, test_size=0.25, random_state=5)\n",
    "gbr= GradientBoostingRegressor()\n",
    "gbr.fit(X_train,np.ravel(Y_train,order='C'))\n",
    "Y_test_pred=gbr.predict(X_test)\n",
    "print(r2_score(Y_test,Y_test_pred))"
   ]
  },
  {
   "cell_type": "code",
   "execution_count": 66,
   "id": "beaf068b",
   "metadata": {},
   "outputs": [],
   "source": [
    "filename = 'X_model.sav'\n",
    "pickle.dump(gbr, open(filename, 'wb'))"
   ]
  },
  {
   "cell_type": "code",
   "execution_count": 67,
   "id": "81839f6b",
   "metadata": {},
   "outputs": [
    {
     "name": "stdout",
     "output_type": "stream",
     "text": [
      "0.9999999893333428\n"
     ]
    }
   ],
   "source": [
    "loaded_model = pickle.load(open(filename, 'rb'))\n",
    "result = loaded_model.score(X_test, Y_test)\n",
    "print(result)"
   ]
  },
  {
   "cell_type": "code",
   "execution_count": 68,
   "id": "20f66bdb",
   "metadata": {},
   "outputs": [
    {
     "name": "stdout",
     "output_type": "stream",
     "text": [
      "0.9802549379280194\n"
     ]
    }
   ],
   "source": [
    "Y = df.loc[1:,'y']\n",
    "\n",
    "X_train, X_test, Y_train, Y_test = train_test_split(features, Y, test_size=0.25, random_state=5)\n",
    "gbr= GradientBoostingRegressor()\n",
    "gbr.fit(X_train,np.ravel(Y_train,order='C'))\n",
    "Y_test_pred=gbr.predict(X_test)\n",
    "print(r2_score(Y_test,Y_test_pred))\n"
   ]
  },
  {
   "cell_type": "code",
   "execution_count": 69,
   "id": "eb4dead0",
   "metadata": {},
   "outputs": [],
   "source": [
    "filename = 'Y_model.sav'\n",
    "pickle.dump(gbr, open(filename, 'wb'))"
   ]
  },
  {
   "cell_type": "code",
   "execution_count": 70,
   "id": "00a56fe4",
   "metadata": {},
   "outputs": [
    {
     "name": "stdout",
     "output_type": "stream",
     "text": [
      "0.9802549379280194\n"
     ]
    }
   ],
   "source": [
    "loaded_model = pickle.load(open(filename, 'rb'))\n",
    "result = loaded_model.score(X_test, Y_test)\n",
    "print(result)"
   ]
  },
  {
   "cell_type": "code",
   "execution_count": 71,
   "id": "8051f512",
   "metadata": {},
   "outputs": [
    {
     "name": "stdout",
     "output_type": "stream",
     "text": [
      "0.9711784967347964\n"
     ]
    }
   ],
   "source": [
    "Y = df.loc[1:,'z']\n",
    "\n",
    "X_train, X_test, Y_train, Y_test = train_test_split(features, Y, test_size=0.25, random_state=5)\n",
    "gbr= GradientBoostingRegressor()\n",
    "gbr.fit(X_train,np.ravel(Y_train,order='C'))\n",
    "Y_test_pred=gbr.predict(X_test)\n",
    "print(r2_score(Y_test,Y_test_pred))"
   ]
  },
  {
   "cell_type": "code",
   "execution_count": 72,
   "id": "fc639809",
   "metadata": {},
   "outputs": [],
   "source": [
    "filename = 'Z_model.sav'\n",
    "pickle.dump(gbr, open(filename, 'wb'))"
   ]
  },
  {
   "cell_type": "code",
   "execution_count": 73,
   "id": "69189399",
   "metadata": {},
   "outputs": [
    {
     "name": "stdout",
     "output_type": "stream",
     "text": [
      "0.9711784967347964\n"
     ]
    }
   ],
   "source": [
    "loaded_model = pickle.load(open(filename, 'rb'))\n",
    "result = loaded_model.score(X_test, Y_test)\n",
    "print(result)"
   ]
  },
  {
   "cell_type": "code",
   "execution_count": null,
   "id": "5772a25d",
   "metadata": {},
   "outputs": [],
   "source": []
  }
 ],
 "metadata": {
  "kernelspec": {
   "display_name": "Python 3 (ipykernel)",
   "language": "python",
   "name": "python3"
  },
  "language_info": {
   "codemirror_mode": {
    "name": "ipython",
    "version": 3
   },
   "file_extension": ".py",
   "mimetype": "text/x-python",
   "name": "python",
   "nbconvert_exporter": "python",
   "pygments_lexer": "ipython3",
   "version": "3.9.7"
  }
 },
 "nbformat": 4,
 "nbformat_minor": 5
}
